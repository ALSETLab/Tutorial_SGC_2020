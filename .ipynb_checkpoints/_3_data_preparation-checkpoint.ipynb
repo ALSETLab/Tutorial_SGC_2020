{
 "cells": [
  {
   "cell_type": "markdown",
   "metadata": {},
   "source": [
    "## Importing Libraries and Loading Preprocessed Data"
   ]
  },
  {
   "cell_type": "code",
   "execution_count": 1,
   "metadata": {},
   "outputs": [],
   "source": [
    "from utils import *"
   ]
  },
  {
   "cell_type": "code",
   "execution_count": 2,
   "metadata": {},
   "outputs": [],
   "source": [
    "# Loading normalized eigenvalues\n",
    "with open (\"_preproc_data/df_normalized_eigenvalues.pkl\", 'rb') as f:\n",
    "    df_normalized_eigenvalues = pickle.load(f)\n",
    "\n",
    "# Loading normalized eigenvalue labels\n",
    "with open (\"_preproc_data/normalized_ground_truth_data.pkl\", 'rb') as f:\n",
    "    normalized_ground_truth_data = pickle.load(f)\n",
    "    \n",
    "# Extract the labels and the damping ratio\n",
    "tag_labels = normalized_ground_truth_data['tag_label']\n",
    "damping_ratio = normalized_ground_truth_data['damping_ratio']"
   ]
  },
  {
   "cell_type": "markdown",
   "metadata": {},
   "source": [
    "## Separating the Eigenvalues into Real and Imaginary Part\n",
    "This must be done since TF does not support backpropagation with complex-valued weights (reference: [here](https://stackoverflow.com/questions/47721615/how-to-backpropagate-with-complex-valued-weights))"
   ]
  },
  {
   "cell_type": "code",
   "execution_count": 14,
   "metadata": {},
   "outputs": [
    {
     "name": "stdout",
     "output_type": "stream",
     "text": [
      "eigs_flatten (shape) = (970935, 1)\n",
      "input_features (shape) = (970935, 2)\n",
      "input_labels (shape) = (970935, 2)\n"
     ]
    }
   ],
   "source": [
    "n_eigs = df_normalized_eigenvalues.shape[0]\n",
    "n_scenarios = df_normalized_eigenvalues.shape[1]\n",
    "\n",
    "eigs_flatten = np.reshape(np.transpose(df_normalized_eigenvalues.values),\n",
    "                         [n_eigs * n_scenarios, 1])\n",
    "print(f\"eigs_flatten (shape) = {eigs_flatten.shape}\")\n",
    "\n",
    "# ------------------------------\n",
    "# INPUT\n",
    "# ------------------------------\n",
    "\n",
    "# Initialize input features matrix\n",
    "input_features = np.zeros(shape = (eigs_flatten.shape[0], 2))\n",
    "\n",
    "# Populate the input features matrix with real and imaginary part of the eigenvalues\n",
    "input_features[:, 0] = np.reshape(np.real(eigs_flatten), [eigs_flatten.shape[0], ])\n",
    "input_features[:, 1] = np.reshape(np.imag(eigs_flatten), [eigs_flatten.shape[0], ])\n",
    "print(f\"input_features (shape) = {input_features.shape}\")\n",
    "\n",
    "# Flattening tag labels (ground truth)\n",
    "input_labels = np.reshape(np.transpose(tag_labels), \n",
    "                          [tag_labels.shape[0] * tag_labels.shape[1], 1])\n",
    "print(f\"input_labels (shape) = {input_features.shape}\")"
   ]
  },
  {
   "cell_type": "markdown",
   "metadata": {},
   "source": [
    "## Splitting data into Training and Testing Datasets"
   ]
  },
  {
   "cell_type": "code",
   "execution_count": 15,
   "metadata": {},
   "outputs": [
    {
     "name": "stdout",
     "output_type": "stream",
     "text": [
      "Train data (shape) = (728201, 2)\n",
      "Train labels (shape) = (728201, 1)\n",
      "Test data (shape) = (242734, 2)\n",
      "Test data (shape) = (242734, 1)\n"
     ]
    }
   ],
   "source": [
    "# INPUTS: input_features\n",
    "# LABELS (of inputs): input_labels\n",
    "\n",
    "# Extracting training and testing data using scikit-learn\n",
    "X_train, X_test, Y_train, Y_test = train_test_split(input_features, \n",
    "                                                    input_labels, \n",
    "                                                    random_state = 0)\n",
    "\n",
    "print(f\"Train data (shape) = {X_train.shape}\")\n",
    "print(f\"Train labels (shape) = {Y_train.shape}\")\n",
    "print(f\"Test data (shape) = {X_test.shape}\")\n",
    "print(f\"Test data (shape) = {Y_test.shape}\")"
   ]
  },
  {
   "cell_type": "code",
   "execution_count": 16,
   "metadata": {},
   "outputs": [
    {
     "data": {
      "text/plain": [
       "array([5.])"
      ]
     },
     "execution_count": 16,
     "metadata": {},
     "output_type": "execute_result"
    }
   ],
   "source": [
    "Y_train[0]"
   ]
  },
  {
   "cell_type": "markdown",
   "metadata": {},
   "source": [
    "## Converting the Labels to One-Hot Encoding"
   ]
  },
  {
   "cell_type": "code",
   "execution_count": 20,
   "metadata": {},
   "outputs": [
    {
     "name": "stdout",
     "output_type": "stream",
     "text": [
      "Train labels (one-hot encoding - shape): (728201, 6)\n",
      "Test labels (one-hot encoding - shape): (242734, 6)\n"
     ]
    }
   ],
   "source": [
    "# Converting labels to one-hot using scikit-learn\n",
    "lb = LabelBinarizer()\n",
    "\n",
    "T_train = np.float64(lb.fit_transform(Y_train))\n",
    "T_train = np.float64(lb.transform(Y_train))\n",
    "\n",
    "T_test = np.float64(lb.fit_transform(Y_test))\n",
    "T_test = np.float64(lb.transform(Y_test))\n",
    "\n",
    "print(f\"Train labels (one-hot encoding - shape): {T_train.shape}\")\n",
    "print(f\"Test labels (one-hot encoding - shape): {T_test.shape}\")"
   ]
  },
  {
   "cell_type": "code",
   "execution_count": 21,
   "metadata": {},
   "outputs": [
    {
     "data": {
      "text/plain": [
       "array([0., 0., 0., 0., 1., 0.])"
      ]
     },
     "execution_count": 21,
     "metadata": {},
     "output_type": "execute_result"
    }
   ],
   "source": [
    "T_train[0]"
   ]
  },
  {
   "cell_type": "markdown",
   "metadata": {},
   "source": [
    "## Compensating Skewed Dataset"
   ]
  },
  {
   "cell_type": "code",
   "execution_count": 23,
   "metadata": {},
   "outputs": [
    {
     "name": "stdout",
     "output_type": "stream",
     "text": [
      "{1.0: 36843, 2.0: 25312, 3.0: 5686, 4.0: 207371, 5.0: 439513, 6.0: 13476}\n"
     ]
    }
   ],
   "source": [
    "# Taking the same amount of eigenvalues for each category\n",
    "unique, counts = np.unique(Y_train, return_counts = True)\n",
    "print(dict(zip(unique, counts)))"
   ]
  },
  {
   "cell_type": "code",
   "execution_count": 29,
   "metadata": {},
   "outputs": [],
   "source": [
    "# Getting the indices for the elements with the same category in the training data\n",
    "numeigs_1 = np.where(Y_train == 1)\n",
    "numeigs_1 = np.array(numeigs_1)\n",
    "numeigs_1 = numeigs_1[0, :]\n",
    "\n",
    "numeigs_2 = np.where(Y_train == 2)\n",
    "numeigs_2 = np.array(numeigs_2)\n",
    "numeigs_2 = numeigs_2[0, :]\n",
    "\n",
    "numeigs_3 = np.where(Y_train == 3)\n",
    "numeigs_3 = np.array(numeigs_3)\n",
    "numeigs_3 = numeigs_3[0, :]\n",
    "\n",
    "numeigs_4 = np.where(Y_train == 4)\n",
    "numeigs_4 = np.array(numeigs_4)\n",
    "numeigs_4 = numeigs_4[0, :]\n",
    "\n",
    "numeigs_5 = np.where(Y_train == 5)\n",
    "numeigs_5 = np.array(numeigs_5)\n",
    "numeigs_5 = numeigs_5[0, :]\n",
    "\n",
    "numeigs_6 = np.where(Y_train == 6)\n",
    "numeigs_6 = np.array(numeigs_6)\n",
    "numeigs_6 = numeigs_6[0, :]"
   ]
  },
  {
   "cell_type": "code",
   "execution_count": 31,
   "metadata": {},
   "outputs": [],
   "source": [
    "# Randomizing indices\n",
    "numeigs_r_1 = np.random.choice(numeigs_1, np.amin(counts))\n",
    "numeigs_r_2 = np.random.choice(numeigs_2, np.amin(counts))\n",
    "numeigs_r_3 = np.random.choice(numeigs_3, np.amin(counts))\n",
    "numeigs_r_4 = np.random.choice(numeigs_4, np.amin(counts))\n",
    "numeigs_r_5 = np.random.choice(numeigs_5, np.amin(counts))\n",
    "numeigs_r_6 = np.random.choice(numeigs_6, np.amin(counts))"
   ]
  },
  {
   "cell_type": "markdown",
   "metadata": {},
   "source": [
    "## Creating Reduced Training/Testing Datasets"
   ]
  },
  {
   "cell_type": "code",
   "execution_count": 36,
   "metadata": {},
   "outputs": [
    {
     "name": "stdout",
     "output_type": "stream",
     "text": [
      " X_train_red (shape) = (34116, 2)\n",
      " Y_train_red (shape) = (34116, 1)\n",
      " T_train_red (shape) = (34116, 6)\n"
     ]
    }
   ],
   "source": [
    "X_train_red = np.concatenate((X_train[numeigs_r_1, ...],\n",
    "                             X_train[numeigs_r_2, ...], X_train[numeigs_r_3, ...], \n",
    "                             X_train[numeigs_r_4, ...], X_train[numeigs_r_5, ...], \n",
    "                             X_train[numeigs_r_6, ...]), axis = 0)\n",
    "print(f\" X_train_red (shape) = {X_train_red.shape}\")\n",
    "\n",
    "Y_train_red = np.concatenate((Y_train[numeigs_r_1, ...],\n",
    "                             Y_train[numeigs_r_2, ...], Y_train[numeigs_r_3, ...], \n",
    "                             Y_train[numeigs_r_4, ...], Y_train[numeigs_r_5, ...], \n",
    "                             Y_train[numeigs_r_6, ...]), axis = 0)\n",
    "print(f\" Y_train_red (shape) = {Y_train_red.shape}\")\n",
    "\n",
    "T_train_red = np.concatenate((T_train[numeigs_r_1, ...],\n",
    "                             T_train[numeigs_r_2, ...], T_train[numeigs_r_3, ...], \n",
    "                             T_train[numeigs_r_4, ...], T_train[numeigs_r_5, ...], \n",
    "                             T_train[numeigs_r_6, ...]), axis = 0)\n",
    "print(f\" T_train_red (shape) = {T_train_red.shape}\")"
   ]
  },
  {
   "cell_type": "code",
   "execution_count": 38,
   "metadata": {},
   "outputs": [],
   "source": [
    "normalized_testing_training_data_red = {'X_train' : X_train,\n",
    "                                       'X_train_red' : X_train_red,\n",
    "                                       'Y_train_red' : Y_train_red,\n",
    "                                       'T_train_red' : T_train_red,\n",
    "                                       'X_test' : X_test,\n",
    "                                       'Y_test' : Y_test}\n",
    "\n",
    "with open('_preproc_data/normalized_testing_training_data_red.pkl', 'wb') as f:\n",
    "    pickle.dump(normalized_testing_training_data_red, f, pickle.HIGHEST_PROTOCOL)"
   ]
  }
 ],
 "metadata": {
  "kernelspec": {
   "display_name": "Python 3",
   "language": "python",
   "name": "python3"
  },
  "language_info": {
   "codemirror_mode": {
    "name": "ipython",
    "version": 3
   },
   "file_extension": ".py",
   "mimetype": "text/x-python",
   "name": "python",
   "nbconvert_exporter": "python",
   "pygments_lexer": "ipython3",
   "version": "3.7.9"
  }
 },
 "nbformat": 4,
 "nbformat_minor": 4
}
