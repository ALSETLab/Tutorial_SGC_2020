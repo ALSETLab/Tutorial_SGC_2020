{
 "cells": [
  {
   "cell_type": "markdown",
   "metadata": {},
   "source": [
    "## Importing Required Libraries"
   ]
  },
  {
   "cell_type": "code",
   "execution_count": 5,
   "metadata": {},
   "outputs": [],
   "source": [
    "from utils import *"
   ]
  },
  {
   "cell_type": "markdown",
   "metadata": {},
   "source": [
    "## Loading Data"
   ]
  },
  {
   "cell_type": "code",
   "execution_count": 11,
   "metadata": {},
   "outputs": [
    {
     "name": "stdout",
     "output_type": "stream",
     "text": [
      "We have 19815 number of scenarios, each with 49 eigenvalues\n"
     ]
    },
    {
     "data": {
      "text/html": [
       "<div>\n",
       "<style scoped>\n",
       "    .dataframe tbody tr th:only-of-type {\n",
       "        vertical-align: middle;\n",
       "    }\n",
       "\n",
       "    .dataframe tbody tr th {\n",
       "        vertical-align: top;\n",
       "    }\n",
       "\n",
       "    .dataframe thead th {\n",
       "        text-align: right;\n",
       "    }\n",
       "</style>\n",
       "<table border=\"1\" class=\"dataframe\">\n",
       "  <thead>\n",
       "    <tr style=\"text-align: right;\">\n",
       "      <th></th>\n",
       "      <th>Scenario 1</th>\n",
       "      <th>Scenario 2</th>\n",
       "      <th>Scenario 3</th>\n",
       "      <th>Scenario 4</th>\n",
       "      <th>Scenario 5</th>\n",
       "      <th>Scenario 6</th>\n",
       "      <th>Scenario 7</th>\n",
       "      <th>Scenario 8</th>\n",
       "      <th>Scenario 9</th>\n",
       "      <th>Scenario 10</th>\n",
       "      <th>...</th>\n",
       "      <th>Scenario 19806</th>\n",
       "      <th>Scenario 19807</th>\n",
       "      <th>Scenario 19808</th>\n",
       "      <th>Scenario 19809</th>\n",
       "      <th>Scenario 19810</th>\n",
       "      <th>Scenario 19811</th>\n",
       "      <th>Scenario 19812</th>\n",
       "      <th>Scenario 19813</th>\n",
       "      <th>Scenario 19814</th>\n",
       "      <th>Scenario 19815</th>\n",
       "    </tr>\n",
       "  </thead>\n",
       "  <tbody>\n",
       "  </tbody>\n",
       "</table>\n",
       "<p>0 rows × 19815 columns</p>\n",
       "</div>"
      ],
      "text/plain": [
       "Empty DataFrame\n",
       "Columns: [Scenario 1, Scenario 2, Scenario 3, Scenario 4, Scenario 5, Scenario 6, Scenario 7, Scenario 8, Scenario 9, Scenario 10, Scenario 11, Scenario 12, Scenario 13, Scenario 14, Scenario 15, Scenario 16, Scenario 17, Scenario 18, Scenario 19, Scenario 20, Scenario 21, Scenario 22, Scenario 23, Scenario 24, Scenario 25, Scenario 26, Scenario 27, Scenario 28, Scenario 29, Scenario 30, Scenario 31, Scenario 32, Scenario 33, Scenario 34, Scenario 35, Scenario 36, Scenario 37, Scenario 38, Scenario 39, Scenario 40, Scenario 41, Scenario 42, Scenario 43, Scenario 44, Scenario 45, Scenario 46, Scenario 47, Scenario 48, Scenario 49, Scenario 50, Scenario 51, Scenario 52, Scenario 53, Scenario 54, Scenario 55, Scenario 56, Scenario 57, Scenario 58, Scenario 59, Scenario 60, Scenario 61, Scenario 62, Scenario 63, Scenario 64, Scenario 65, Scenario 66, Scenario 67, Scenario 68, Scenario 69, Scenario 70, Scenario 71, Scenario 72, Scenario 73, Scenario 74, Scenario 75, Scenario 76, Scenario 77, Scenario 78, Scenario 79, Scenario 80, Scenario 81, Scenario 82, Scenario 83, Scenario 84, Scenario 85, Scenario 86, Scenario 87, Scenario 88, Scenario 89, Scenario 90, Scenario 91, Scenario 92, Scenario 93, Scenario 94, Scenario 95, Scenario 96, Scenario 97, Scenario 98, Scenario 99, Scenario 100, ...]\n",
       "Index: []\n",
       "\n",
       "[0 rows x 19815 columns]"
      ]
     },
     "execution_count": 11,
     "metadata": {},
     "output_type": "execute_result"
    }
   ],
   "source": [
    "eigs19branches = np.load(\"_raw_data/19Branches_all_eigs.npy\")\n",
    "print(f\"We have {eigs19branches.shape[0]} number of scenarios, \\\n",
    "each with {eigs19branches.shape[1]} eigenvalues\")"
   ]
  },
  {
   "cell_type": "markdown",
   "metadata": {},
   "source": [
    "## Organize Data"
   ]
  },
  {
   "cell_type": "code",
   "execution_count": null,
   "metadata": {},
   "outputs": [],
   "source": [
    "# Create column labels\n",
    "col_labels = []\n",
    "for i in range(1, eigs19branches.shape[0] + 1):\n",
    "    col_labels.append(\"Scenario {}\".format(i))\n",
    "    \n",
    "df_eigenvalues = pd.DataFrame([], columns = col_labels)\n",
    "df_eigenvalues.head()"
   ]
  },
  {
   "cell_type": "code",
   "execution_count": 12,
   "metadata": {},
   "outputs": [],
   "source": [
    "for sc in range(1, eigs19branches.shape[0] + 1):\n",
    "    df_eigenvalues[\"Scenario {}\".format(sc)] = eigs19branches[sc - 1][:]"
   ]
  },
  {
   "cell_type": "code",
   "execution_count": 14,
   "metadata": {},
   "outputs": [],
   "source": [
    "with open(\"_preproc_data/df_eigenvalues.pkl\", 'wb') as f:\n",
    "    pickle.dump(df_eigenvalues, f, pickle.HIGHEST_PROTOCOL)"
   ]
  },
  {
   "cell_type": "markdown",
   "metadata": {},
   "source": [
    "## Exploratory Data Analysis"
   ]
  },
  {
   "cell_type": "code",
   "execution_count": 16,
   "metadata": {},
   "outputs": [
    {
     "data": {
      "text/plain": [
       "<matplotlib.legend.Legend at 0x7febf3550b50>"
      ]
     },
     "execution_count": 16,
     "metadata": {},
     "output_type": "execute_result"
    },
    {
     "data": {
      "image/png": "[encoded data removed]",
      "text/plain": [
       "<Figure size 720x504 with 1 Axes>"
      ]
     },
     "metadata": {
      "needs_background": "light"
     },
     "output_type": "display_data"
    }
   ],
   "source": [
    "# This cell works properly on Windows\n",
    "plot_scenarios = np.random.randint(1, df_eigenvalues.shape[1],10)\n",
    "\n",
    "fig, ax = plt.subplots(figsize = (10, 7))\n",
    "\n",
    "for sc in plot_scenarios:\n",
    "    real_part = np.real(df_eigenvalues[\"Scenario {}\".format(sc)][:])\n",
    "    imag_part = np.imag(df_eigenvalues[\"Scenario {}\".format(sc)][:])\n",
    "    ax.scatter(real_part, imag_part, marker = 'x')\n",
    "\n",
    "ax.set_title('Raw Eigenvalue Distribution', fontname = 'Times New Roman', fontsize = 20)\n",
    "ax.set_xlabel('Real Axis', fontname = 'Times New Roman', fontsize = 16)\n",
    "ax.set_ylabel('Imaginary Axis', fontname = 'Times New Roman', fontsize = 16)\n",
    "\n",
    "for tick in ax.get_xticklabels():\n",
    "    tick.set_fontname('Times New Roman')\n",
    "    tick.set_fontsize(14)\n",
    "for tick in ax.get_yticklabels():\n",
    "    tick.set_fontname('Times New Roman')\n",
    "    tick.set_fontsize(14)\n",
    "    \n",
    "# Drawing stability boundary\n",
    "ax.axvline(x = 0, color = 'red', linestyle = '--', label = 'Stability boundary') \n",
    "ax.legend(prop = {'family' : 'Times', 'size' : 14})"
   ]
  }
 ],
 "metadata": {
  "kernelspec": {
   "display_name": "Python 3",
   "language": "python",
   "name": "python3"
  },
  "language_info": {
   "codemirror_mode": {
    "name": "ipython",
    "version": 3
   },
   "file_extension": ".py",
   "mimetype": "text/x-python",
   "name": "python",
   "nbconvert_exporter": "python",
   "pygments_lexer": "ipython3",
   "version": "3.7.4"
  }
 },
 "nbformat": 4,
 "nbformat_minor": 4
}
